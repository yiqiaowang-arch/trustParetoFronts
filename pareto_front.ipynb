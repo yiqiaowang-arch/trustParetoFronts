{
 "cells": [
  {
   "cell_type": "code",
   "execution_count": null,
   "id": "initial_id",
   "metadata": {
    "collapsed": true
   },
   "outputs": [],
   "source": [
    "import calliope\n",
    "import pandas as pd\n",
    "import numpy as np\n",
    "import matplotlib.pyplot as plt"
   ]
  },
  {
   "cell_type": "markdown",
   "source": [
    "Steps to achieve multi-objective optimization (ε-cut):\n",
    "1. prepare cost data (monetary: HSLU database; emission: KBOB, limitation: different database);\n",
    "2. Input into calliope configuration;\n",
    "3. Define available technology;\n",
    "4. Solve for min-cost $(C_L, E_L)$ and min-emission $(C_R, E_R)$;\n",
    "5. define amount of cuts (n), and primary objective (normally Cost)\n",
    "6. Divide emission range $[E_L, E_R]$ into n parts, $E_0 = E_L, E_1, ..., E_i, ..., E_n-1, E_n=E_R$;\n",
    "7. optimize for C, with constriaint of $E\\leq E_i$;\n",
    "8. get n+1 points: $(C_0, E_0) = (C_L, E_L), (C_1, E_1), ..., (C_i, E_i), ..., (C_n-1, E_n-1), (C_n, E_n) = (C_R, E_R)$\n",
    "9. link these points in a coordinate plane to form the pareto front."
   ],
   "metadata": {
    "collapsed": false
   },
   "id": "2cf47b61a3f74fb5"
  },
  {
   "cell_type": "code",
   "execution_count": null,
   "outputs": [],
   "source": [
    "# define a function that solves for cost-emission tuple for a give emission or cost constraint\n",
    "def solve_for_cost_emission_tuple(config: calliope.AttrDict, timeseries_df: dict, obj_type_now_have: str = 'monetary', obj_now_have: float = 0):\n",
    "    if obj_type_now_have == 'monetary':\n",
    "        # first configure the config file for min emission with system wide cost constraint\n",
    "        config_min_emission: calliope.AttrDict = config.copy()\n",
    "        config_min_emission.set_key(key='run.objective_options.cost_class', value={'emissions': 1})\n",
    "        config_min_emission.set_key(key='group_constraints.systemwide_cost_max.cost_max.monetary', value=obj_now_have)\n",
    "        "
   ],
   "metadata": {
    "collapsed": false
   },
   "id": "b532ee571099be88"
  },
  {
   "cell_type": "code",
   "execution_count": null,
   "outputs": [],
   "source": [
    "# define the epsilon-cut method for pareto front\n",
    "def epsilon_cut(config: [dict, calliope.AttrDict], epsilon: int, timeseries_df: dict):\n",
    "    # first configure the config file for min cost and min emission\n",
    "    config_min_emission = config.copy()\n",
    "    calliope.AttrDict.set_key(config_min_emission, key='run.objective_options.cost_class', value={'emissions': 1})\n",
    "    \n",
    "    # solve for min emission\n",
    "    model_min_emission = calliope.Model(config_min_emission, timeseries_dataframe=timeseries_df)\n",
    "    model_min_emission.run()\n",
    "    \n",
    "    # update config, so that the model optimizes for min cost with the tightest emission constraint, which is to find the max cost\n",
    "    model_min_emission_max_cost = model_min_emission.copy()\n"
   ],
   "metadata": {
    "collapsed": false
   },
   "id": "fa5ffd558cb309d2"
  }
 ],
 "metadata": {
  "kernelspec": {
   "display_name": "Python 3",
   "language": "python",
   "name": "python3"
  },
  "language_info": {
   "codemirror_mode": {
    "name": "ipython",
    "version": 2
   },
   "file_extension": ".py",
   "mimetype": "text/x-python",
   "name": "python",
   "nbconvert_exporter": "python",
   "pygments_lexer": "ipython2",
   "version": "2.7.6"
  }
 },
 "nbformat": 4,
 "nbformat_minor": 5
}
